{
 "cells": [
  {
   "cell_type": "markdown",
   "metadata": {},
   "source": [
    "# PRÁCTICA 2: Procesamiento de Video"
   ]
  },
  {
   "cell_type": "code",
   "execution_count": 2,
   "metadata": {},
   "outputs": [],
   "source": [
    "# Importación de Librerías\n",
    "import cv2\n",
    "from matplotlib import pyplot as plt\n",
    "import opencv_jupyter_ui as jcv2\n"
   ]
  },
  {
   "cell_type": "code",
   "execution_count": null,
   "metadata": {},
   "outputs": [],
   "source": [
    "feedVideo = cv2.VideoCapture(\"Traffic.mp4\")\n",
    "\n",
    "BackgroundRemover = cv2.createBackgroundSubtractorMOG2(history = 10)\n",
    "while True:\n",
    "  rt, frame = feedVideo.read()\n",
    "\n",
    "  frame = cv2.resize(frame, (340, 160))\n",
    "  frameBack = BackgroundRemover.apply(frame)\n",
    "\n",
    "  frameGray = cv2.cvtColor(frame, cv2.COLOR_BGR2GRAY);\n",
    "\n",
    "  brush = cv2.getStructuringElement(cv2.MORPH_ELLIPSE, (5, 5))\n",
    "  closed= cv2.morphologyEx(frame, cv2.MORPH_CLOSE, brush)\n",
    "\n",
    "  Blackhat = cv2.subtract(closed, frame);\n",
    "\n",
    "  frameBlur = cv2.GaussianBlur(frameGray, (5, 5), 0);\n",
    "\n",
    "  framebinary = cv2.threshold(frameBlur, 127, 255, cv2.THRESH_BINARY)[1];\n",
    "\n",
    "  jcv2.imshow(\"Frame\", frame);\n",
    "\n",
    "  framebinary_display = cv2.cvtColor(frameBack, cv2.COLOR_GRAY2BGR);\n",
    "  jcv2.imshow(\"BW\", framebinary_display);\n",
    "\n",
    "  if(cv2.waitKey(30) == \"q\"):\n",
    "    break\n",
    "\n",
    "feedVideo.release()\n",
    "cv2.destroyAllWindows()"
   ]
  }
 ],
 "metadata": {
  "kernelspec": {
   "display_name": "Python 3",
   "language": "python",
   "name": "python3"
  },
  "language_info": {
   "codemirror_mode": {
    "name": "ipython",
    "version": 3
   },
   "file_extension": ".py",
   "mimetype": "text/x-python",
   "name": "python",
   "nbconvert_exporter": "python",
   "pygments_lexer": "ipython3",
   "version": "3.11.9"
  }
 },
 "nbformat": 4,
 "nbformat_minor": 2
}
